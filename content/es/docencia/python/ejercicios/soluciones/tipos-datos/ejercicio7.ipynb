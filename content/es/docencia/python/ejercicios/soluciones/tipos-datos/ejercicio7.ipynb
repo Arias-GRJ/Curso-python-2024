{
  "cells": [
    {
      "cell_type": "markdown",
      "metadata": {
        "id": "view-in-github",
        "colab_type": "text"
      },
      "source": [
        "<a href=\"https://colab.research.google.com/github/Arias-GRJ/Curso-python-2024/blob/main/content/es/docencia/python/ejercicios/soluciones/tipos-datos/ejercicio7.ipynb\" target=\"_parent\"><img src=\"https://colab.research.google.com/assets/colab-badge.svg\" alt=\"Open In Colab\"/></a>"
      ]
    },
    {
      "cell_type": "markdown",
      "metadata": {
        "id": "CtmVWCf0JfbQ"
      },
      "source": [
        "## Ejercicio\n",
        "\n",
        "Escribir un programa que pida al usuario su peso (en kg) y estatura (en metros), calcule el índice de masa corporal y lo almacene en una variable, e imprima por pantalla la frase `Tu índice de masa corporal es <imc>` donde `<imc>` es el índice de masa corporal calculado redondeado con dos decimales."
      ]
    },
    {
      "cell_type": "code",
      "execution_count": null,
      "metadata": {
        "id": "w_sEIE04JfbT",
        "outputId": "d96e8482-8f83-492f-aff5-21b23bfbb4e1"
      },
      "outputs": [
        {
          "name": "stdout",
          "output_type": "stream",
          "text": "Tu índice de masa corporal es 24.22\n"
        }
      ],
      "source": [
        "peso = input(\"¿Cuál es tu peso en kg? \")\n",
        "estatura = input(\"¿Cuál es tu estatura en metros?\")\n",
        "imc = round(float(peso)/float(estatura)**2,2)\n",
        "print(\"Tu índice de masa corporal es \" + str(imc))"
      ]
    },
    {
      "cell_type": "code",
      "source": [
        "# Solucion 2\n",
        "pesoKG = int(input(\"Ingrese su peso en kg: \"))\n",
        "altura = float(input(\"Ingrese su altura: \"))\n",
        "\n",
        "icm = pesoKG / altura ** 2\n",
        "print(f\"Su indice de masa corporal es: {icm:.2f}.\")"
      ],
      "metadata": {
        "id": "E30qYOlOJ9l_"
      },
      "execution_count": null,
      "outputs": []
    }
  ],
  "metadata": {
    "kernelspec": {
      "display_name": "Python 3",
      "language": "python",
      "name": "python3"
    },
    "language_info": {
      "codemirror_mode": {
        "name": "ipython",
        "version": 3
      },
      "file_extension": ".py",
      "mimetype": "text/x-python",
      "name": "python",
      "nbconvert_exporter": "python",
      "pygments_lexer": "ipython3",
      "version": "3.7.4-final"
    },
    "colab": {
      "provenance": [],
      "include_colab_link": true
    }
  },
  "nbformat": 4,
  "nbformat_minor": 0
}