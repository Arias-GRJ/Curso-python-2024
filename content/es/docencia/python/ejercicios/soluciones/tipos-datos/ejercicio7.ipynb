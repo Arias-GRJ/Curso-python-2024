{
  "cells": [
    {
      "cell_type": "markdown",
      "metadata": {
        "id": "sYU_ZBcuIK8t"
      },
      "source": [
        "## Ejercicio\n",
        "\n",
        "Escribir un programa que pida al usuario su peso (en kg) y estatura (en metros), calcule el índice de masa corporal y lo almacene en una variable, e imprima por pantalla la frase `Tu índice de masa corporal es <imc>` donde `<imc>` es el índice de masa corporal calculado redondeado con dos decimales."
      ]
    },
    {
      "cell_type": "code",
      "source": [
        "pesoKG = int(input(\"Ingrese su peso en kg: \"))\n",
        "altura = float(input(\"Ingrese su altura: \"))\n",
        "\n",
        "icm = pesoKG / altura ** 2\n",
        "print(f\"Su indice de masa corporal es: {icm:.2f}\")"
      ],
      "metadata": {
        "collapsed": true,
        "id": "Dup20aBkIfeX",
        "outputId": "daff8e5a-93c8-4419-9b8c-663ff02fa1db",
        "colab": {
          "base_uri": "https://localhost:8080/"
        }
      },
      "execution_count": 2,
      "outputs": [
        {
          "output_type": "stream",
          "name": "stdout",
          "text": [
            "Ingrese su peso en kg: 70\n",
            "Ingrese su altura: 1.75\n",
            "Su indice de masa corporal es: 22.86\n"
          ]
        }
      ]
    },
    {
      "cell_type": "markdown",
      "metadata": {
        "id": "nrJ7XRaAIK8x"
      },
      "source": [
        "## Solución"
      ]
    },
    {
      "cell_type": "code",
      "execution_count": null,
      "metadata": {
        "id": "xwjOekgRIK8x",
        "outputId": "1c059d1e-c13e-409a-91f1-722bc941ad88"
      },
      "outputs": [
        {
          "name": "stdout",
          "output_type": "stream",
          "text": "Tu índice de masa corporal es 24.22\n"
        }
      ],
      "source": [
        "peso = input(\"¿Cuál es tu peso en kg? \")\n",
        "estatura = input(\"¿Cuál es tu estatura en metros?\")\n",
        "imc = round(float(peso)/float(estatura)**2,2)\n",
        "print(\"Tu índice de masa corporal es \" + str(imc))"
      ]
    }
  ],
  "metadata": {
    "kernelspec": {
      "display_name": "Python 3",
      "language": "python",
      "name": "python3"
    },
    "language_info": {
      "codemirror_mode": {
        "name": "ipython",
        "version": 3
      },
      "file_extension": ".py",
      "mimetype": "text/x-python",
      "name": "python",
      "nbconvert_exporter": "python",
      "pygments_lexer": "ipython3",
      "version": "3.7.4-final"
    },
    "colab": {
      "provenance": []
    }
  },
  "nbformat": 4,
  "nbformat_minor": 0
}